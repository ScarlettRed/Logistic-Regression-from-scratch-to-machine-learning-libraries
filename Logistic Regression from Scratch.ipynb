{
 "cells": [
  {
   "cell_type": "markdown",
   "metadata": {},
   "source": [
    "# Logistic Regression w/o any defined models"
   ]
  },
  {
   "cell_type": "markdown",
   "metadata": {},
   "source": [
    "## Loading Data"
   ]
  },
  {
   "cell_type": "code",
   "execution_count": 5,
   "metadata": {},
   "outputs": [],
   "source": [
    "import pandas as pd\n",
    "import matplotlib.pyplot as plt\n",
    "import numpy as np\n",
    "from pylab import rcParams\n",
    "import seaborn as sns"
   ]
  },
  {
   "cell_type": "code",
   "execution_count": 6,
   "metadata": {},
   "outputs": [
    {
     "data": {
      "text/html": [
       "<div>\n",
       "<style scoped>\n",
       "    .dataframe tbody tr th:only-of-type {\n",
       "        vertical-align: middle;\n",
       "    }\n",
       "\n",
       "    .dataframe tbody tr th {\n",
       "        vertical-align: top;\n",
       "    }\n",
       "\n",
       "    .dataframe thead th {\n",
       "        text-align: right;\n",
       "    }\n",
       "</style>\n",
       "<table border=\"1\" class=\"dataframe\">\n",
       "  <thead>\n",
       "    <tr style=\"text-align: right;\">\n",
       "      <th></th>\n",
       "      <th>DMV_Test_1</th>\n",
       "      <th>DMV_Test_2</th>\n",
       "      <th>Results</th>\n",
       "    </tr>\n",
       "  </thead>\n",
       "  <tbody>\n",
       "    <tr>\n",
       "      <th>0</th>\n",
       "      <td>34.623660</td>\n",
       "      <td>78.024693</td>\n",
       "      <td>0</td>\n",
       "    </tr>\n",
       "    <tr>\n",
       "      <th>1</th>\n",
       "      <td>30.286711</td>\n",
       "      <td>43.894998</td>\n",
       "      <td>0</td>\n",
       "    </tr>\n",
       "    <tr>\n",
       "      <th>2</th>\n",
       "      <td>35.847409</td>\n",
       "      <td>72.902198</td>\n",
       "      <td>0</td>\n",
       "    </tr>\n",
       "    <tr>\n",
       "      <th>3</th>\n",
       "      <td>60.182599</td>\n",
       "      <td>86.308552</td>\n",
       "      <td>1</td>\n",
       "    </tr>\n",
       "    <tr>\n",
       "      <th>4</th>\n",
       "      <td>79.032736</td>\n",
       "      <td>75.344376</td>\n",
       "      <td>1</td>\n",
       "    </tr>\n",
       "  </tbody>\n",
       "</table>\n",
       "</div>"
      ],
      "text/plain": [
       "   DMV_Test_1  DMV_Test_2  Results\n",
       "0   34.623660   78.024693        0\n",
       "1   30.286711   43.894998        0\n",
       "2   35.847409   72.902198        0\n",
       "3   60.182599   86.308552        1\n",
       "4   79.032736   75.344376        1"
      ]
     },
     "execution_count": 6,
     "metadata": {},
     "output_type": "execute_result"
    }
   ],
   "source": [
    "data=pd.read_csv(\"DMV_Written_Tests.csv\")\n",
    "data.head()"
   ]
  },
  {
   "cell_type": "code",
   "execution_count": 7,
   "metadata": {},
   "outputs": [
    {
     "name": "stdout",
     "output_type": "stream",
     "text": [
      "<class 'pandas.core.frame.DataFrame'>\n",
      "RangeIndex: 100 entries, 0 to 99\n",
      "Data columns (total 3 columns):\n",
      "DMV_Test_1    100 non-null float64\n",
      "DMV_Test_2    100 non-null float64\n",
      "Results       100 non-null int64\n",
      "dtypes: float64(2), int64(1)\n",
      "memory usage: 2.4 KB\n"
     ]
    }
   ],
   "source": [
    "data.info()"
   ]
  },
  {
   "cell_type": "code",
   "execution_count": 37,
   "metadata": {},
   "outputs": [
    {
     "data": {
      "image/png": "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\n",
      "text/plain": [
       "<Figure size 432x288 with 1 Axes>"
      ]
     },
     "metadata": {},
     "output_type": "display_data"
    }
   ],
   "source": [
    "m=data[\"DMV_Test_1\"] #this method convert the data in this particular column into a series type data\n",
    "M=m.to_numpy() #this method is used to convert series into numpy array.\n",
    "\n",
    "scores=data[[\"DMV_Test_1\",\"DMV_Test_2\"]].values\n",
    "result=data[\"Results\"].values\n",
    "\n",
    "PASS = (result == 1).reshape(100, 1)\n",
    "FAIL = (result == 0).reshape(100, 1)\n",
    "\n",
    "ax=sns.scatterplot( x=scores[PASS[:, 0], 0],\n",
    "                    y=scores[PASS[:, 0],1],\n",
    "                    marker=\"*\",\n",
    "                    color=\"green\",\n",
    "                    s=60)\n",
    "sns.scatterplot( x=scores[FAIL[:, 0], 0],\n",
    "                 y=scores[FAIL[:, 0], 1],\n",
    "                  marker=\"^\",\n",
    "                 color=\"red\",\n",
    "               s=60)\n",
    "ax.set(xlabel=\"DMV Written Test 1 Scores\", ylabel=\"DMV Written Test 2 Scores\")\n",
    "ax.legend([\"Passed\", \"Failed\"])\n",
    "plt.show();"
   ]
  },
  {
   "cell_type": "code",
   "execution_count": 2,
   "metadata": {},
   "outputs": [],
   "source": [
    "sns.set() ##apply the default theme, scaling and color pallete\n"
   ]
  },
  {
   "cell_type": "markdown",
   "metadata": {},
   "source": [
    "### Logistic sigmoidal funtion"
   ]
  },
  {
   "cell_type": "code",
   "execution_count": 47,
   "metadata": {},
   "outputs": [
    {
     "data": {
      "text/plain": [
       "0.5"
      ]
     },
     "execution_count": 47,
     "metadata": {},
     "output_type": "execute_result"
    }
   ],
   "source": [
    "def logistic_sigmoidal(x):\n",
    "    return 1/(1 + np.exp(-x))\n",
    "logistic_sigmoidal(0)"
   ]
  },
 
 "metadata": {
  "kernelspec": {
   "display_name": "Python 3",
   "language": "python",
   "name": "python3"
  },
  "language_info": {
   "codemirror_mode": {
    "name": "ipython",
    "version": 3
   },
   "file_extension": ".py",
   "mimetype": "text/x-python",
   "name": "python",
   "nbconvert_exporter": "python",
   "pygments_lexer": "ipython3",
   "version": "3.5.2"
  }
 },
 "nbformat": 4,
 "nbformat_minor": 4
}
